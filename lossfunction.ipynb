{
  "nbformat": 4,
  "nbformat_minor": 0,
  "metadata": {
    "colab": {
      "name": "lossfunction.ipynb",
      "provenance": [],
      "collapsed_sections": [],
      "authorship_tag": "ABX9TyPQtwHK+RX3sYeDHqRSS2Zx",
      "include_colab_link": true
    },
    "kernelspec": {
      "name": "python3",
      "display_name": "Python 3"
    },
    "language_info": {
      "name": "python"
    }
  },
  "cells": [
    {
      "cell_type": "markdown",
      "metadata": {
        "id": "view-in-github",
        "colab_type": "text"
      },
      "source": [
        "<a href=\"https://colab.research.google.com/github/neerajsingh9929/Machine-Learning-tutorial/blob/main/lossfunction.ipynb\" target=\"_parent\"><img src=\"https://colab.research.google.com/assets/colab-badge.svg\" alt=\"Open In Colab\"/></a>"
      ]
    },
    {
      "cell_type": "markdown",
      "source": [
        "# loss function // feature selection \n",
        "# **lasso regrisssion ** \n",
        "\n",
        "\n",
        "\n",
        "1-->Regression on Diabetes dataset without lasso regression "
      ],
      "metadata": {
        "id": "SnCmW3tDvzuS"
      }
    },
    {
      "cell_type": "code",
      "execution_count": 4,
      "metadata": {
        "id": "CkQdogEZvxbf",
        "colab": {
          "base_uri": "https://localhost:8080/",
          "height": 283
        },
        "outputId": "eefbc061-04ff-4ade-ca09-50854f352055"
      },
      "outputs": [
        {
          "output_type": "execute_result",
          "data": {
            "text/plain": [
              "0.5011750798275432"
            ]
          },
          "metadata": {},
          "execution_count": 4
        },
        {
          "output_type": "display_data",
          "data": {
            "text/plain": [
              "<Figure size 432x288 with 1 Axes>"
            ],
            "image/png": "[encoded data removed]"
          },
          "metadata": {
            "needs_background": "light"
          }
        }
      ],
      "source": [
        "from sklearn.datasets import load_diabetes\n",
        "ld=load_diabetes()\n",
        "x=ld.data\n",
        "y=ld.target\n",
        "from sklearn.model_selection import train_test_split\n",
        "xtrain,xtest,ytrain,ytest=train_test_split(x,y,test_size=0.2)\n",
        "from sklearn.linear_model import LinearRegression\n",
        "LR=LinearRegression()\n",
        "LR.fit(xtrain,ytrain)\n",
        "import pandas as pd\n",
        "DF=pd.DataFrame()\n",
        "DF['columnsnames']=ld.feature_names\n",
        "DF['coeffvalues']=pd.Series(LR.coef_)\n",
        "import matplotlib.pyplot as plt\n",
        "plt.bar(DF['columnsnames'],DF['coeffvalues'])\n",
        "from sklearn.metrics import r2_score\n",
        "r2_score(ytest,LR.predict(xtest))\n"
      ]
    },
    {
      "cell_type": "markdown",
      "source": [
        "2-->  Regression on Diabetes dataset without lasso regression"
      ],
      "metadata": {
        "id": "JnvWqoi8MnOL"
      }
    },
    {
      "cell_type": "code",
      "source": [
        "from sklearn.datasets import load_diabetes\n",
        "ld=load_diabetes()\n",
        "x=ld.data\n",
        "y=ld.target\n",
        "from sklearn.model_selection import train_test_split\n",
        "xtrain,xtest,ytrain,ytest=train_test_split(x,y,test_size=0.2)\n",
        "from sklearn.linear_model import Lasso \n",
        "R=Lasso(alpha=0.3)\n",
        "R.fit(xtrain,ytrain)\n",
        "DF=pd.DataFrame()\n",
        "DF['columnsnames']=ld.feature_names\n",
        "DF['coeffvalues']=pd.Series(R.coef_)\n",
        "import matplotlib.pyplot as plt\n",
        "plt.bar(DF['columnsnames'],DF['coeffvalues'])\n",
        "from sklearn.metrics import r2_score\n",
        "r2_score(ytest,R.predict(xtest))\n"
      ],
      "metadata": {
        "colab": {
          "base_uri": "https://localhost:8080/",
          "height": 283
        },
        "id": "ggUAC4izMsuf",
        "outputId": "73e21b5c-bd82-4128-a0fc-4026c644e692"
      },
      "execution_count": 8,
      "outputs": [
        {
          "output_type": "execute_result",
          "data": {
            "text/plain": [
              "0.528342391641706"
            ]
          },
          "metadata": {},
          "execution_count": 8
        },
        {
          "output_type": "display_data",
          "data": {
            "text/plain": [
              "<Figure size 432x288 with 1 Axes>"
            ],
            "image/png": "[encoded data removed]"
          },
          "metadata": {
            "needs_background": "light"
          }
        }
      ]
    }
  ]
}